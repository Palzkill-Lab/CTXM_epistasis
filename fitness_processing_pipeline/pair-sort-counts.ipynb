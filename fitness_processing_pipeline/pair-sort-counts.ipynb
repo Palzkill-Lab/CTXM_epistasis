{
 "cells": [
  {
   "cell_type": "code",
   "execution_count": 1,
   "metadata": {},
   "outputs": [],
   "source": [
    "from Bio import SeqIO\n",
    "from Bio.Alphabet import generic_dna\n",
    "from Bio.Seq import Seq\n",
    "import csv\n",
    "import re\n",
    "import math"
   ]
  },
  {
   "cell_type": "code",
   "execution_count": 9,
   "metadata": {},
   "outputs": [],
   "source": [
    "# This function imports the top barcodes from a comma separated (csv) file that contains your full primers.\n",
    "# The format should be: 'primer name', 'NKKNKK-barcode-primer region'\n",
    "# If your file only includes the barcodes and not the rest of the primer, you'll need to change the function,\n",
    "# which I describe in the next comment.\n",
    "def csv_barcode_import(barcode_file):\n",
    "    with open(barcode_file) as infile:\n",
    "        top_barcodes= {}\n",
    "        reader=csv.reader(infile)\n",
    "        # The second part of this expression (rows[1][6:16]) takes the first 10 characters following\n",
    "        # the 6 character adapted ligation sequence (NKKNKK) and uses them as your barcode.\n",
    "        # If you want to search for a shorter or longer sequence, add or substract from 16.\n",
    "        mydict={rows[0]:rows[1][6:16] for rows in reader}\n",
    "        for k,v in mydict.items():\n",
    "            # I only include primers with 'top' in the name to 'clean up' my file so that it only contains \n",
    "            # correctly oriented reads. \n",
    "            # If your file only contains top barcodes anyway, or if you use 'forward' instead of top,\n",
    "            # change the 'if' criteria below.\n",
    "            if 'A3-top' in k:\n",
    "                top_barcodes[k]= v\n",
    "            if 'C2-top' in k:\n",
    "                top_barcodes[k]= v\n",
    "            if 'ns-top' in k:\n",
    "                top_barcodes[k]= v\n",
    "        return top_barcodes"
   ]
  },
  {
   "cell_type": "code",
   "execution_count": 21,
   "metadata": {},
   "outputs": [
    {
     "name": "stdout",
     "output_type": "stream",
     "text": [
      "{'K234X-S237X-ns-top': 'GTGGTATGCG', 'K234X-S237X-A3-top': 'CACATAGGCG', 'K234X-S237X-C2-top': 'CCTAAACTCG', 'K234X-T235X-ns-top': 'AGGAGTCCCG', 'K234X-T235X-A3-top': 'TCTACTCTCG', 'K234X-T235X-C2-top': 'TCCTGAGCCG'}\n"
     ]
    }
   ],
   "source": [
    "top_barcode_list= csv_barcode_import('Primer_file.csv')\n",
    "print(top_barcode_list)"
   ]
  },
  {
   "cell_type": "code",
   "execution_count": 11,
   "metadata": {},
   "outputs": [],
   "source": [
    "# end pairing is performed by first assuming each read in FASTQ file 1 is the top read,\n",
    "# then assuming that each read in FASTQ file 2 is the top read\n",
    "# reads are then filtered for any forward barcode, eliminating ends that were paired in the wrong direction.\n",
    "\n",
    "#joins files assuming all reads from FASTQ file 1 are the forward read\n",
    "def join_files_1fwd(file1, file2):\n",
    "    with open(file1) as f1:\n",
    "        with open(file2) as f2:\n",
    "            with open('joined_1fwd_2rev.fa', 'a') as outfile:\n",
    "                lines1= f1.readlines()\n",
    "                lines2= f2.readlines()\n",
    "                loc= lines1[0::4]\n",
    "                desired_lines1= lines1[1::4]\n",
    "                desired_lines2= lines2[1::4]\n",
    "                for i in range(len(desired_lines1)):\n",
    "                    reads= '>' + str(loc[i]) + desired_lines1[i].strip() + 'NNNNNNNN' + Seq(desired_lines2[i].strip()).reverse_complement()\n",
    "                    print(reads, file=outfile)"
   ]
  },
  {
   "cell_type": "code",
   "execution_count": 12,
   "metadata": {
    "scrolled": true
   },
   "outputs": [],
   "source": [
    "join_files_1fwd('Seq1_1.fq', 'Seq1_2.fq')"
   ]
  },
  {
   "cell_type": "code",
   "execution_count": 13,
   "metadata": {},
   "outputs": [],
   "source": [
    "#joins files assuming all reads from FASTQ file 2 are the forward read\n",
    "def join_files_2fwd(file1, file2):\n",
    "    with open(file2) as f2:\n",
    "        with open(file1) as f1:\n",
    "            with open ('joined_2fwd_1rev.fa', 'a') as outfile:\n",
    "                lines1= f1.readlines()\n",
    "                lines2= f2.readlines()\n",
    "                loc= lines1[0::4]\n",
    "                desired_lines1= lines1[1::4]\n",
    "                desired_lines2= lines2[1::4]\n",
    "                for i in range(len(desired_lines1)):\n",
    "                    reads= '>' + str(loc[i]) + desired_lines2[i].strip() + 'NNNNNNNN' + Seq(desired_lines1[i].strip()).reverse_complement()\n",
    "                    print(reads, file=outfile)"
   ]
  },
  {
   "cell_type": "code",
   "execution_count": 15,
   "metadata": {},
   "outputs": [],
   "source": [
    "join_files_2fwd('Seq1_1.fq', 'Seq1_2.fq')"
   ]
  },
  {
   "cell_type": "code",
   "execution_count": 16,
   "metadata": {},
   "outputs": [],
   "source": [
    "# creates a file with only correctly oriented (5' -> 3') reads\n",
    "def cleaned_pairs(file1, file2):\n",
    "    #picks the reads from file 1 that have a forward barcode and sends them to a \"cleaned\" file\n",
    "    with open('joined_cleaned.fa', 'a') as output:\n",
    "        for record in SeqIO.parse('joined_1fwd_2rev.fa', 'fasta'):\n",
    "            seq= record.seq\n",
    "            loc= record.id\n",
    "            for k,v in top_barcode_list.items():\n",
    "                if str(v) in seq:\n",
    "                    print('>' + loc+ '\\n' + str(seq), file= output)\n",
    "    #picks the reads from file 2 that have a forward barcode and adds them to the same \"cleaned\" file\n",
    "    with open('joined_cleaned.fa', 'a') as output:\n",
    "        for record in SeqIO.parse('joined_2fwd_1rev.fa', 'fasta'):\n",
    "            seq= record.seq\n",
    "            loc= record.id\n",
    "            for k,v in top_barcode_list.items():\n",
    "                if str(v) in seq:\n",
    "                    print('>' + loc+ '\\n' + str(seq), file= output)"
   ]
  },
  {
   "cell_type": "code",
   "execution_count": 17,
   "metadata": {},
   "outputs": [],
   "source": [
    "cleaned_pairs('Seq1_1.fq', 'Seq1_2.fq')"
   ]
  },
  {
   "cell_type": "code",
   "execution_count": 22,
   "metadata": {},
   "outputs": [],
   "source": [
    "# sorts reads into separate fasta files, based on top barcode in dictionary that was created above\n",
    "def parse_sort(file, barcode_list):\n",
    "    for record in SeqIO.parse(file, 'fasta'):\n",
    "        seq= str(record.seq)\n",
    "        loc= record.id\n",
    "        for k,v in barcode_list.items():\n",
    "            if str(v) in seq:\n",
    "                with open('%s.fasta'%str(k), 'a') as outputfile:\n",
    "                    print('>' + loc + '\\n' + seq, file=outputfile)"
   ]
  },
  {
   "cell_type": "code",
   "execution_count": 23,
   "metadata": {},
   "outputs": [],
   "source": [
    "parse_sort('joined_cleaned.fa', top_barcode_list)"
   ]
  },
  {
   "cell_type": "code",
   "execution_count": 24,
   "metadata": {},
   "outputs": [],
   "source": [
    "# in order to count the occurence of each amino acid, we have to import the genetic code\n",
    "# assign genetic code to two dictionaries, one for each mutated active site position\n",
    "gencode1 = { \n",
    "        'ATA':'I', 'ATC':'I', 'ATT':'I', 'ATG':'M', \n",
    "        'ACA':'T', 'ACC':'T', 'ACG':'T', 'ACT':'T', \n",
    "        'AAC':'N', 'AAT':'N', 'AAA':'K', 'AAG':'K', \n",
    "        'AGC':'S', 'AGT':'S', 'AGA':'R', 'AGG':'R',                  \n",
    "        'CTA':'L', 'CTC':'L', 'CTG':'L', 'CTT':'L', \n",
    "        'CCA':'P', 'CCC':'P', 'CCG':'P', 'CCT':'P', \n",
    "        'CAC':'H', 'CAT':'H', 'CAA':'Q', 'CAG':'Q', \n",
    "        'CGA':'R', 'CGC':'R', 'CGG':'R', 'CGT':'R', \n",
    "        'GTA':'V', 'GTC':'V', 'GTG':'V', 'GTT':'V', \n",
    "        'GCA':'A', 'GCC':'A', 'GCG':'A', 'GCT':'A', \n",
    "        'GAC':'D', 'GAT':'D', 'GAA':'E', 'GAG':'E', \n",
    "        'GGA':'G', 'GGC':'G', 'GGG':'G', 'GGT':'G', \n",
    "        'TCA':'S', 'TCC':'S', 'TCG':'S', 'TCT':'S', \n",
    "        'TTC':'F', 'TTT':'F', 'TTA':'L', 'TTG':'L', \n",
    "        'TAC':'Y', 'TAT':'Y', 'TGC':'C', 'TGT':'C', \n",
    "        'TGG':'W'} \n",
    "gencode2 = { \n",
    "        'ATA':'I', 'ATC':'I', 'ATT':'I', 'ATG':'M', \n",
    "        'ACA':'T', 'ACC':'T', 'ACG':'T', 'ACT':'T', \n",
    "        'AAC':'N', 'AAT':'N', 'AAA':'K', 'AAG':'K', \n",
    "        'AGC':'S', 'AGT':'S', 'AGA':'R', 'AGG':'R',                  \n",
    "        'CTA':'L', 'CTC':'L', 'CTG':'L', 'CTT':'L', \n",
    "        'CCA':'P', 'CCC':'P', 'CCG':'P', 'CCT':'P', \n",
    "        'CAC':'H', 'CAT':'H', 'CAA':'Q', 'CAG':'Q', \n",
    "        'CGA':'R', 'CGC':'R', 'CGG':'R', 'CGT':'R', \n",
    "        'GTA':'V', 'GTC':'V', 'GTG':'V', 'GTT':'V', \n",
    "        'GCA':'A', 'GCC':'A', 'GCG':'A', 'GCT':'A', \n",
    "        'GAC':'D', 'GAT':'D', 'GAA':'E', 'GAG':'E', \n",
    "        'GGA':'G', 'GGC':'G', 'GGG':'G', 'GGT':'G', \n",
    "        'TCA':'S', 'TCC':'S', 'TCG':'S', 'TCT':'S', \n",
    "        'TTC':'F', 'TTT':'F', 'TTA':'L', 'TTG':'L', \n",
    "        'TAC':'Y', 'TAT':'Y', 'TGC':'C', 'TGT':'C', \n",
    "        'TGG':'W'} "
   ]
  },
  {
   "cell_type": "code",
   "execution_count": 25,
   "metadata": {},
   "outputs": [],
   "source": [
    "# function below counts the occurence of each amino acid at the desired position based on input REGEX code\n",
    "# NSfile, A3file, and C2file are the naive, ampicillin-selected, and cefotaxime-selected libraries, respectively\n",
    "# DNAcode input is the REGEX code used to search for the desired codon position\n",
    "# REGEX code must include 12-bp on either side of the desired codon\n",
    "# and designated range of base pairs that occur between the two codons\n",
    "def count_csv(NSfile, A3file, C2file, DNAcode):\n",
    "    with open('%s'%'fullgencode-counts-' + str(NSfile[0:-13]) + '.csv', 'a') as outfile:\n",
    "    \n",
    "        #NS library\n",
    "        listNS= ['A:A', 'A:R', 'A:N', 'A:D', 'A:C', 'A:Q', 'A:E', 'A:G', 'A:H', 'A:I', 'A:L', 'A:K', 'A:M', 'A:F', 'A:P', 'A:S', 'A:T', 'A:W', 'A:Y', 'A:V', 'R:A', 'R:R', 'R:N', 'R:D', 'R:C', 'R:Q', 'R:E', 'R:G', 'R:H', 'R:I', 'R:L', 'R:K', 'R:M', 'R:F', 'R:P', 'R:S', 'R:T', 'R:W', 'R:Y', 'R:V', 'N:A', 'N:R', 'N:N', 'N:D', 'N:C', 'N:Q', 'N:E', 'N:G', 'N:H', 'N:I', 'N:L', 'N:K', 'N:M', 'N:F', 'N:P', 'N:S', 'N:T', 'N:W', 'N:Y', 'N:V', 'D:A', 'D:R', 'D:N', 'D:D', 'D:C', 'D:Q', 'D:E', 'D:G', 'D:H', 'D:I', 'D:L', 'D:K', 'D:M', 'D:F', 'D:P', 'D:S', 'D:T', 'D:W', 'D:Y', 'D:V', 'C:A', 'C:R', 'C:N', 'C:D', 'C:C', 'C:Q', 'C:E', 'C:G', 'C:H', 'C:I', 'C:L', 'C:K', 'C:M', 'C:F', 'C:P', 'C:S', 'C:T', 'C:W', 'C:Y', 'C:V', 'Q:A', 'Q:R', 'Q:N', 'Q:D', 'Q:C', 'Q:Q', 'Q:E', 'Q:G', 'Q:H', 'Q:I', 'Q:L', 'Q:K', 'Q:M', 'Q:F', 'Q:P', 'Q:S', 'Q:T', 'Q:W', 'Q:Y', 'Q:V', 'E:A', 'E:R', 'E:N', 'E:D', 'E:C', 'E:Q', 'E:E', 'E:G', 'E:H', 'E:I', 'E:L', 'E:K', 'E:M', 'E:F', 'E:P', 'E:S', 'E:T', 'E:W', 'E:Y', 'E:V', 'G:A', 'G:R', 'G:N', 'G:D', 'G:C', 'G:Q', 'G:E', 'G:G', 'G:H', 'G:I', 'G:L', 'G:K', 'G:M', 'G:F', 'G:P', 'G:S', 'G:T', 'G:W', 'G:Y', 'G:V', 'H:A', 'H:R', 'H:N', 'H:D', 'H:C', 'H:Q', 'H:E', 'H:G', 'H:H', 'H:I', 'H:L', 'H:K', 'H:M', 'H:F', 'H:P', 'H:S', 'H:T', 'H:W', 'H:Y', 'H:V', 'I:A', 'I:R', 'I:N', 'I:D', 'I:C', 'I:Q', 'I:E', 'I:G', 'I:H', 'I:I', 'I:L', 'I:K', 'I:M', 'I:F', 'I:P', 'I:S', 'I:T', 'I:W', 'I:Y', 'I:V', 'L:A', 'L:R', 'L:N', 'L:D', 'L:C', 'L:Q', 'L:E', 'L:G', 'L:H', 'L:I', 'L:L', 'L:K', 'L:M', 'L:F', 'L:P', 'L:S', 'L:T', 'L:W', 'L:Y', 'L:V', 'K:A', 'K:R', 'K:N', 'K:D', 'K:C', 'K:Q', 'K:E', 'K:G', 'K:H', 'K:I', 'K:L', 'K:K', 'K:M', 'K:F', 'K:P', 'K:S', 'K:T', 'K:W', 'K:Y', 'K:V', 'M:A', 'M:R', 'M:N', 'M:D', 'M:C', 'M:Q', 'M:E', 'M:G', 'M:H', 'M:I', 'M:L', 'M:K', 'M:M', 'M:F', 'M:P', 'M:S', 'M:T', 'M:W', 'M:Y', 'M:V', 'F:A', 'F:R', 'F:N', 'F:D', 'F:C', 'F:Q', 'F:E', 'F:G', 'F:H', 'F:I', 'F:L', 'F:K', 'F:M', 'F:F', 'F:P', 'F:S', 'F:T', 'F:W', 'F:Y', 'F:V', 'P:A', 'P:R', 'P:N', 'P:D', 'P:C', 'P:Q', 'P:E', 'P:G', 'P:H', 'P:I', 'P:L', 'P:K', 'P:M', 'P:F', 'P:P', 'P:S', 'P:T', 'P:W', 'P:Y', 'P:V', 'S:A', 'S:R', 'S:N', 'S:D', 'S:C', 'S:Q', 'S:E', 'S:G', 'S:H', 'S:I', 'S:L', 'S:K', 'S:M', 'S:F', 'S:P', 'S:S', 'S:T', 'S:W', 'S:Y', 'S:V', 'T:A', 'T:R', 'T:N', 'T:D', 'T:C', 'T:Q', 'T:E', 'T:G', 'T:H', 'T:I', 'T:L', 'T:K', 'T:M', 'T:F', 'T:P', 'T:S', 'T:T', 'T:W', 'T:Y', 'T:V', 'W:A', 'W:R', 'W:N', 'W:D', 'W:C', 'W:Q', 'W:E', 'W:G', 'W:H', 'W:I', 'W:L', 'W:K', 'W:M', 'W:F', 'W:P', 'W:S', 'W:T', 'W:W', 'W:Y', 'W:V', 'Y:A', 'Y:R', 'Y:N', 'Y:D', 'Y:C', 'Y:Q', 'Y:E', 'Y:G', 'Y:H', 'Y:I', 'Y:L', 'Y:K', 'Y:M', 'Y:F', 'Y:P', 'Y:S', 'Y:T', 'Y:W', 'Y:Y', 'Y:V', 'V:A', 'V:R', 'V:N', 'V:D', 'V:C', 'V:Q', 'V:E', 'V:G', 'V:H', 'V:I', 'V:L', 'V:K', 'V:M', 'V:F', 'V:P', 'V:S', 'V:T', 'V:W', 'V:Y', 'V:V']\n",
    "        for record in SeqIO.parse(NSfile, 'fasta'):\n",
    "            seq=str(record.seq)\n",
    "            if re.search(DNAcode, seq):\n",
    "                x=re.search(DNAcode, seq)\n",
    "                mut1= str(x.group()[12:15])\n",
    "                mut2= str(x.group()[-15:-12])\n",
    "                for k1,v1 in gencode1.items():\n",
    "                    for k2,v2 in gencode2  .items():\n",
    "                        if str(k1) in mut1 and str(k2) in mut2:\n",
    "                            listNS.append(gencode1[mut1] + ':' + gencode2[mut2])\n",
    "        dNS= {}\n",
    "        for item in listNS:\n",
    "            dNS[item]= dNS.get(item,0) + 1\n",
    "        print('NS done!')\n",
    "\n",
    "        \n",
    "        #A3 library\n",
    "        listA3= ['A:A', 'A:R', 'A:N', 'A:D', 'A:C', 'A:Q', 'A:E', 'A:G', 'A:H', 'A:I', 'A:L', 'A:K', 'A:M', 'A:F', 'A:P', 'A:S', 'A:T', 'A:W', 'A:Y', 'A:V', 'R:A', 'R:R', 'R:N', 'R:D', 'R:C', 'R:Q', 'R:E', 'R:G', 'R:H', 'R:I', 'R:L', 'R:K', 'R:M', 'R:F', 'R:P', 'R:S', 'R:T', 'R:W', 'R:Y', 'R:V', 'N:A', 'N:R', 'N:N', 'N:D', 'N:C', 'N:Q', 'N:E', 'N:G', 'N:H', 'N:I', 'N:L', 'N:K', 'N:M', 'N:F', 'N:P', 'N:S', 'N:T', 'N:W', 'N:Y', 'N:V', 'D:A', 'D:R', 'D:N', 'D:D', 'D:C', 'D:Q', 'D:E', 'D:G', 'D:H', 'D:I', 'D:L', 'D:K', 'D:M', 'D:F', 'D:P', 'D:S', 'D:T', 'D:W', 'D:Y', 'D:V', 'C:A', 'C:R', 'C:N', 'C:D', 'C:C', 'C:Q', 'C:E', 'C:G', 'C:H', 'C:I', 'C:L', 'C:K', 'C:M', 'C:F', 'C:P', 'C:S', 'C:T', 'C:W', 'C:Y', 'C:V', 'Q:A', 'Q:R', 'Q:N', 'Q:D', 'Q:C', 'Q:Q', 'Q:E', 'Q:G', 'Q:H', 'Q:I', 'Q:L', 'Q:K', 'Q:M', 'Q:F', 'Q:P', 'Q:S', 'Q:T', 'Q:W', 'Q:Y', 'Q:V', 'E:A', 'E:R', 'E:N', 'E:D', 'E:C', 'E:Q', 'E:E', 'E:G', 'E:H', 'E:I', 'E:L', 'E:K', 'E:M', 'E:F', 'E:P', 'E:S', 'E:T', 'E:W', 'E:Y', 'E:V', 'G:A', 'G:R', 'G:N', 'G:D', 'G:C', 'G:Q', 'G:E', 'G:G', 'G:H', 'G:I', 'G:L', 'G:K', 'G:M', 'G:F', 'G:P', 'G:S', 'G:T', 'G:W', 'G:Y', 'G:V', 'H:A', 'H:R', 'H:N', 'H:D', 'H:C', 'H:Q', 'H:E', 'H:G', 'H:H', 'H:I', 'H:L', 'H:K', 'H:M', 'H:F', 'H:P', 'H:S', 'H:T', 'H:W', 'H:Y', 'H:V', 'I:A', 'I:R', 'I:N', 'I:D', 'I:C', 'I:Q', 'I:E', 'I:G', 'I:H', 'I:I', 'I:L', 'I:K', 'I:M', 'I:F', 'I:P', 'I:S', 'I:T', 'I:W', 'I:Y', 'I:V', 'L:A', 'L:R', 'L:N', 'L:D', 'L:C', 'L:Q', 'L:E', 'L:G', 'L:H', 'L:I', 'L:L', 'L:K', 'L:M', 'L:F', 'L:P', 'L:S', 'L:T', 'L:W', 'L:Y', 'L:V', 'K:A', 'K:R', 'K:N', 'K:D', 'K:C', 'K:Q', 'K:E', 'K:G', 'K:H', 'K:I', 'K:L', 'K:K', 'K:M', 'K:F', 'K:P', 'K:S', 'K:T', 'K:W', 'K:Y', 'K:V', 'M:A', 'M:R', 'M:N', 'M:D', 'M:C', 'M:Q', 'M:E', 'M:G', 'M:H', 'M:I', 'M:L', 'M:K', 'M:M', 'M:F', 'M:P', 'M:S', 'M:T', 'M:W', 'M:Y', 'M:V', 'F:A', 'F:R', 'F:N', 'F:D', 'F:C', 'F:Q', 'F:E', 'F:G', 'F:H', 'F:I', 'F:L', 'F:K', 'F:M', 'F:F', 'F:P', 'F:S', 'F:T', 'F:W', 'F:Y', 'F:V', 'P:A', 'P:R', 'P:N', 'P:D', 'P:C', 'P:Q', 'P:E', 'P:G', 'P:H', 'P:I', 'P:L', 'P:K', 'P:M', 'P:F', 'P:P', 'P:S', 'P:T', 'P:W', 'P:Y', 'P:V', 'S:A', 'S:R', 'S:N', 'S:D', 'S:C', 'S:Q', 'S:E', 'S:G', 'S:H', 'S:I', 'S:L', 'S:K', 'S:M', 'S:F', 'S:P', 'S:S', 'S:T', 'S:W', 'S:Y', 'S:V', 'T:A', 'T:R', 'T:N', 'T:D', 'T:C', 'T:Q', 'T:E', 'T:G', 'T:H', 'T:I', 'T:L', 'T:K', 'T:M', 'T:F', 'T:P', 'T:S', 'T:T', 'T:W', 'T:Y', 'T:V', 'W:A', 'W:R', 'W:N', 'W:D', 'W:C', 'W:Q', 'W:E', 'W:G', 'W:H', 'W:I', 'W:L', 'W:K', 'W:M', 'W:F', 'W:P', 'W:S', 'W:T', 'W:W', 'W:Y', 'W:V', 'Y:A', 'Y:R', 'Y:N', 'Y:D', 'Y:C', 'Y:Q', 'Y:E', 'Y:G', 'Y:H', 'Y:I', 'Y:L', 'Y:K', 'Y:M', 'Y:F', 'Y:P', 'Y:S', 'Y:T', 'Y:W', 'Y:Y', 'Y:V', 'V:A', 'V:R', 'V:N', 'V:D', 'V:C', 'V:Q', 'V:E', 'V:G', 'V:H', 'V:I', 'V:L', 'V:K', 'V:M', 'V:F', 'V:P', 'V:S', 'V:T', 'V:W', 'V:Y', 'V:V']\n",
    "        for record in SeqIO.parse(A3file, 'fasta'):\n",
    "            seq=str(record.seq)\n",
    "            if re.search(DNAcode, seq):\n",
    "                x=re.search(DNAcode, seq)\n",
    "                mut1= str(x.group()[12:15])\n",
    "                mut2= str(x.group()[-15:-12])\n",
    "                for k1,v1 in gencode1.items():\n",
    "                    for k2,v2 in gencode2.items():\n",
    "                        if str(k1) in mut1 and str(k2) in mut2:\n",
    "                            listA3.append(gencode1[mut1] + ':' + gencode2[mut2])\n",
    "        dA3= {}\n",
    "        for item in listA3:\n",
    "            dA3[item]= dA3.get(item,0) + 1\n",
    "        print('A3 done!')\n",
    "        \n",
    "        \n",
    "        #C2 library\n",
    "        listC2= ['A:A', 'A:R', 'A:N', 'A:D', 'A:C', 'A:Q', 'A:E', 'A:G', 'A:H', 'A:I', 'A:L', 'A:K', 'A:M', 'A:F', 'A:P', 'A:S', 'A:T', 'A:W', 'A:Y', 'A:V', 'R:A', 'R:R', 'R:N', 'R:D', 'R:C', 'R:Q', 'R:E', 'R:G', 'R:H', 'R:I', 'R:L', 'R:K', 'R:M', 'R:F', 'R:P', 'R:S', 'R:T', 'R:W', 'R:Y', 'R:V', 'N:A', 'N:R', 'N:N', 'N:D', 'N:C', 'N:Q', 'N:E', 'N:G', 'N:H', 'N:I', 'N:L', 'N:K', 'N:M', 'N:F', 'N:P', 'N:S', 'N:T', 'N:W', 'N:Y', 'N:V', 'D:A', 'D:R', 'D:N', 'D:D', 'D:C', 'D:Q', 'D:E', 'D:G', 'D:H', 'D:I', 'D:L', 'D:K', 'D:M', 'D:F', 'D:P', 'D:S', 'D:T', 'D:W', 'D:Y', 'D:V', 'C:A', 'C:R', 'C:N', 'C:D', 'C:C', 'C:Q', 'C:E', 'C:G', 'C:H', 'C:I', 'C:L', 'C:K', 'C:M', 'C:F', 'C:P', 'C:S', 'C:T', 'C:W', 'C:Y', 'C:V', 'Q:A', 'Q:R', 'Q:N', 'Q:D', 'Q:C', 'Q:Q', 'Q:E', 'Q:G', 'Q:H', 'Q:I', 'Q:L', 'Q:K', 'Q:M', 'Q:F', 'Q:P', 'Q:S', 'Q:T', 'Q:W', 'Q:Y', 'Q:V', 'E:A', 'E:R', 'E:N', 'E:D', 'E:C', 'E:Q', 'E:E', 'E:G', 'E:H', 'E:I', 'E:L', 'E:K', 'E:M', 'E:F', 'E:P', 'E:S', 'E:T', 'E:W', 'E:Y', 'E:V', 'G:A', 'G:R', 'G:N', 'G:D', 'G:C', 'G:Q', 'G:E', 'G:G', 'G:H', 'G:I', 'G:L', 'G:K', 'G:M', 'G:F', 'G:P', 'G:S', 'G:T', 'G:W', 'G:Y', 'G:V', 'H:A', 'H:R', 'H:N', 'H:D', 'H:C', 'H:Q', 'H:E', 'H:G', 'H:H', 'H:I', 'H:L', 'H:K', 'H:M', 'H:F', 'H:P', 'H:S', 'H:T', 'H:W', 'H:Y', 'H:V', 'I:A', 'I:R', 'I:N', 'I:D', 'I:C', 'I:Q', 'I:E', 'I:G', 'I:H', 'I:I', 'I:L', 'I:K', 'I:M', 'I:F', 'I:P', 'I:S', 'I:T', 'I:W', 'I:Y', 'I:V', 'L:A', 'L:R', 'L:N', 'L:D', 'L:C', 'L:Q', 'L:E', 'L:G', 'L:H', 'L:I', 'L:L', 'L:K', 'L:M', 'L:F', 'L:P', 'L:S', 'L:T', 'L:W', 'L:Y', 'L:V', 'K:A', 'K:R', 'K:N', 'K:D', 'K:C', 'K:Q', 'K:E', 'K:G', 'K:H', 'K:I', 'K:L', 'K:K', 'K:M', 'K:F', 'K:P', 'K:S', 'K:T', 'K:W', 'K:Y', 'K:V', 'M:A', 'M:R', 'M:N', 'M:D', 'M:C', 'M:Q', 'M:E', 'M:G', 'M:H', 'M:I', 'M:L', 'M:K', 'M:M', 'M:F', 'M:P', 'M:S', 'M:T', 'M:W', 'M:Y', 'M:V', 'F:A', 'F:R', 'F:N', 'F:D', 'F:C', 'F:Q', 'F:E', 'F:G', 'F:H', 'F:I', 'F:L', 'F:K', 'F:M', 'F:F', 'F:P', 'F:S', 'F:T', 'F:W', 'F:Y', 'F:V', 'P:A', 'P:R', 'P:N', 'P:D', 'P:C', 'P:Q', 'P:E', 'P:G', 'P:H', 'P:I', 'P:L', 'P:K', 'P:M', 'P:F', 'P:P', 'P:S', 'P:T', 'P:W', 'P:Y', 'P:V', 'S:A', 'S:R', 'S:N', 'S:D', 'S:C', 'S:Q', 'S:E', 'S:G', 'S:H', 'S:I', 'S:L', 'S:K', 'S:M', 'S:F', 'S:P', 'S:S', 'S:T', 'S:W', 'S:Y', 'S:V', 'T:A', 'T:R', 'T:N', 'T:D', 'T:C', 'T:Q', 'T:E', 'T:G', 'T:H', 'T:I', 'T:L', 'T:K', 'T:M', 'T:F', 'T:P', 'T:S', 'T:T', 'T:W', 'T:Y', 'T:V', 'W:A', 'W:R', 'W:N', 'W:D', 'W:C', 'W:Q', 'W:E', 'W:G', 'W:H', 'W:I', 'W:L', 'W:K', 'W:M', 'W:F', 'W:P', 'W:S', 'W:T', 'W:W', 'W:Y', 'W:V', 'Y:A', 'Y:R', 'Y:N', 'Y:D', 'Y:C', 'Y:Q', 'Y:E', 'Y:G', 'Y:H', 'Y:I', 'Y:L', 'Y:K', 'Y:M', 'Y:F', 'Y:P', 'Y:S', 'Y:T', 'Y:W', 'Y:Y', 'Y:V', 'V:A', 'V:R', 'V:N', 'V:D', 'V:C', 'V:Q', 'V:E', 'V:G', 'V:H', 'V:I', 'V:L', 'V:K', 'V:M', 'V:F', 'V:P', 'V:S', 'V:T', 'V:W', 'V:Y', 'V:V']\n",
    "        for record in SeqIO.parse(C2file, 'fasta'):\n",
    "            seq=str(record.seq)\n",
    "            if re.search(DNAcode, seq):\n",
    "                x=re.search(DNAcode, seq)\n",
    "                mut1= str(x.group()[12:15])\n",
    "                mut2= str(x.group()[-15:-12])\n",
    "                for k1,v1 in gencode1.items():\n",
    "                    for k2,v2 in gencode2.items():\n",
    "                        if str(k1) in mut1 and str(k2) in mut2:\n",
    "                            listC2.append(gencode1[mut1] + ':' + gencode2[mut2])\n",
    "        dC2= {}\n",
    "        for item in listC2:\n",
    "            dC2[item]= dC2.get(item,0) + 1\n",
    "        print('C2 done!')\n",
    "        \n",
    "        #write to outfile\n",
    "        fieldnames= ['AA', 'NS', 'A3', 'C2']\n",
    "        writer=csv.writer(outfile)\n",
    "        writer.writerow(fieldnames)\n",
    "        \n",
    "        for k,v in dNS.items():\n",
    "            print(str(k) + ',' + str(v) + ',' + str(dA3[k]) + ',' + str(dC2[k]), file=outfile)"
   ]
  },
  {
   "cell_type": "code",
   "execution_count": null,
   "metadata": {},
   "outputs": [],
   "source": [
    "# each of the 136 libraries (for each pair of positions) was processed individually\n",
    "# below is one example of two distant active site positions, K73X-K234X\n",
    "count_csv('K73X-K234X-ns-top.fasta',  \n",
    "          'K73X-K234X-A3-top.fasta',\n",
    "          'K73X-K234X-C2-top.fasta', \n",
    "          r'TGCAGTACCAGT[ACTG]{3}GTTATGGCGGCC[ACTGN]{30,200}ACTGTGGGTGAT[ACTG]{3}ACCGGCAGCGGC')"
   ]
  },
  {
   "cell_type": "code",
   "execution_count": null,
   "metadata": {},
   "outputs": [],
   "source": [
    "# below is an example of two nearby active site positions, K234X-G236X\n",
    "count_csv('K234X-G236X-ns-top.fasta',\n",
    "         'K234X-G236X-A3-top.fasta',\n",
    "         'K234X-G236X-C2-top.fasta',\n",
    "          r'ACTGTGGGTGAT[ACTG]{3}ACC[ACTG]{3}AGCGGCGACTAC')"
   ]
  },
  {
   "cell_type": "code",
   "execution_count": null,
   "metadata": {},
   "outputs": [],
   "source": [
    " "
   ]
  }
 ],
 "metadata": {
  "kernelspec": {
   "display_name": "Python 3 (ipykernel)",
   "language": "python",
   "name": "python3"
  },
  "language_info": {
   "codemirror_mode": {
    "name": "ipython",
    "version": 3
   },
   "file_extension": ".py",
   "mimetype": "text/x-python",
   "name": "python",
   "nbconvert_exporter": "python",
   "pygments_lexer": "ipython3",
   "version": "3.7.12"
  }
 },
 "nbformat": 4,
 "nbformat_minor": 2
}
